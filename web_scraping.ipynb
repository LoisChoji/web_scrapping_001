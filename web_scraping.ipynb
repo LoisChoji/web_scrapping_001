{
 "cells": [
  {
   "cell_type": "code",
   "execution_count": 1,
   "metadata": {},
   "outputs": [],
   "source": [
    "import requests"
   ]
  },
  {
   "cell_type": "code",
   "execution_count": 2,
   "metadata": {},
   "outputs": [
    {
     "data": {
      "text/plain": [
       "<Response [200]>"
      ]
     },
     "execution_count": 2,
     "metadata": {},
     "output_type": "execute_result"
    }
   ],
   "source": [
    "#use requests library to get the page\n",
    "res = requests.get(\"https://www.example.com\")\n",
    "res"
   ]
  },
  {
   "cell_type": "code",
   "execution_count": 3,
   "metadata": {},
   "outputs": [
    {
     "data": {
      "text/plain": [
       "requests.models.Response"
      ]
     },
     "execution_count": 3,
     "metadata": {},
     "output_type": "execute_result"
    }
   ],
   "source": [
    "type(res)"
   ]
  },
  {
   "cell_type": "code",
   "execution_count": 4,
   "metadata": {},
   "outputs": [
    {
     "data": {
      "text/plain": [
       "'<!doctype html>\\n<html>\\n<head>\\n    <title>Example Domain</title>\\n\\n    <meta charset=\"utf-8\" />\\n    <meta http-equiv=\"Content-type\" content=\"text/html; charset=utf-8\" />\\n    <meta name=\"viewport\" content=\"width=device-width, initial-scale=1\" />\\n    <style type=\"text/css\">\\n    body {\\n        background-color: #f0f0f2;\\n        margin: 0;\\n        padding: 0;\\n        font-family: -apple-system, system-ui, BlinkMacSystemFont, \"Segoe UI\", \"Open Sans\", \"Helvetica Neue\", Helvetica, Arial, sans-serif;\\n        \\n    }\\n    div {\\n        width: 600px;\\n        margin: 5em auto;\\n        padding: 2em;\\n        background-color: #fdfdff;\\n        border-radius: 0.5em;\\n        box-shadow: 2px 3px 7px 2px rgba(0,0,0,0.02);\\n    }\\n    a:link, a:visited {\\n        color: #38488f;\\n        text-decoration: none;\\n    }\\n    @media (max-width: 700px) {\\n        div {\\n            margin: 0 auto;\\n            width: auto;\\n        }\\n    }\\n    </style>    \\n</head>\\n\\n<body>\\n<div>\\n    <h1>Example Domain</h1>\\n    <p>This domain is for use in illustrative examples in documents. You may use this\\n    domain in literature without prior coordination or asking for permission.</p>\\n    <p><a href=\"https://www.iana.org/domains/example\">More information...</a></p>\\n</div>\\n</body>\\n</html>\\n'"
      ]
     },
     "execution_count": 4,
     "metadata": {},
     "output_type": "execute_result"
    }
   ],
   "source": [
    "res.text"
   ]
  },
  {
   "cell_type": "code",
   "execution_count": 5,
   "metadata": {},
   "outputs": [
    {
     "data": {
      "text/plain": [
       "<!DOCTYPE html>\n",
       "<html>\n",
       "<head>\n",
       "<title>Example Domain</title>\n",
       "<meta charset=\"utf-8\"/>\n",
       "<meta content=\"text/html; charset=utf-8\" http-equiv=\"Content-type\"/>\n",
       "<meta content=\"width=device-width, initial-scale=1\" name=\"viewport\"/>\n",
       "<style type=\"text/css\">\n",
       "    body {\n",
       "        background-color: #f0f0f2;\n",
       "        margin: 0;\n",
       "        padding: 0;\n",
       "        font-family: -apple-system, system-ui, BlinkMacSystemFont, \"Segoe UI\", \"Open Sans\", \"Helvetica Neue\", Helvetica, Arial, sans-serif;\n",
       "        \n",
       "    }\n",
       "    div {\n",
       "        width: 600px;\n",
       "        margin: 5em auto;\n",
       "        padding: 2em;\n",
       "        background-color: #fdfdff;\n",
       "        border-radius: 0.5em;\n",
       "        box-shadow: 2px 3px 7px 2px rgba(0,0,0,0.02);\n",
       "    }\n",
       "    a:link, a:visited {\n",
       "        color: #38488f;\n",
       "        text-decoration: none;\n",
       "    }\n",
       "    @media (max-width: 700px) {\n",
       "        div {\n",
       "            margin: 0 auto;\n",
       "            width: auto;\n",
       "        }\n",
       "    }\n",
       "    </style>\n",
       "</head>\n",
       "<body>\n",
       "<div>\n",
       "<h1>Example Domain</h1>\n",
       "<p>This domain is for use in illustrative examples in documents. You may use this\n",
       "    domain in literature without prior coordination or asking for permission.</p>\n",
       "<p><a href=\"https://www.iana.org/domains/example\">More information...</a></p>\n",
       "</div>\n",
       "</body>\n",
       "</html>"
      ]
     },
     "execution_count": 5,
     "metadata": {},
     "output_type": "execute_result"
    }
   ],
   "source": [
    "import bs4 #importing beautiful soup\n",
    "#beautiful soup contains all the ingredients of the webpage\n",
    "soup = bs4.BeautifulSoup(res.text,\"lxml\")\n",
    "soup"
   ]
  },
  {
   "cell_type": "code",
   "execution_count": 6,
   "metadata": {},
   "outputs": [
    {
     "data": {
      "text/plain": [
       "[<title>Example Domain</title>]"
      ]
     },
     "execution_count": 6,
     "metadata": {},
     "output_type": "execute_result"
    }
   ],
   "source": [
    "#.select() method to grap all elements of the web\n",
    "soup.select('title')"
   ]
  },
  {
   "cell_type": "markdown",
   "metadata": {},
   "source": [
    "#### Task 1: Grabbing all elements of a class\n",
    "#### https://en.wikipedia.org/wiki/Grace_Hopper"
   ]
  },
  {
   "cell_type": "code",
   "execution_count": 7,
   "metadata": {},
   "outputs": [],
   "source": [
    "#get the requests\n",
    "res = requests.get(\"https://en.wikipedia.org/wiki/Grace_Hopper\")\n",
    "\n",
    "#creating a soup from request\n",
    "soup = bs4.BeautifulSoup(res.text,\"lxml\")"
   ]
  },
  {
   "cell_type": "code",
   "execution_count": 8,
   "metadata": {},
   "outputs": [
    {
     "data": {
      "text/plain": [
       "[<span class=\"toctext\">Early life and education</span>,\n",
       " <span class=\"toctext\">Career</span>,\n",
       " <span class=\"toctext\">World War II</span>,\n",
       " <span class=\"toctext\">UNIVAC</span>,\n",
       " <span class=\"toctext\">COBOL</span>,\n",
       " <span class=\"toctext\">Standards</span>,\n",
       " <span class=\"toctext\">Retirement</span>,\n",
       " <span class=\"toctext\">Post-retirement</span>,\n",
       " <span class=\"toctext\">Anecdotes</span>,\n",
       " <span class=\"toctext\">Death</span>,\n",
       " <span class=\"toctext\">Dates of rank</span>,\n",
       " <span class=\"toctext\">Awards and honors</span>,\n",
       " <span class=\"toctext\">Military awards</span>,\n",
       " <span class=\"toctext\">Other awards</span>,\n",
       " <span class=\"toctext\">Legacy</span>,\n",
       " <span class=\"toctext\">Places</span>,\n",
       " <span class=\"toctext\">Programs</span>,\n",
       " <span class=\"toctext\">In popular culture</span>,\n",
       " <span class=\"toctext\">Grace Hopper Celebration of Women in Computing</span>,\n",
       " <span class=\"toctext\">Notes</span>,\n",
       " <span class=\"toctext\">Obituary notices</span>,\n",
       " <span class=\"toctext\">See also</span>,\n",
       " <span class=\"toctext\">References</span>,\n",
       " <span class=\"toctext\">Further reading</span>,\n",
       " <span class=\"toctext\">External links</span>]"
      ]
     },
     "execution_count": 8,
     "metadata": {},
     "output_type": "execute_result"
    }
   ],
   "source": [
    "#toctext depends on your ip address\n",
    "#it may be called something different\n",
    "\n",
    "soup.select(\".toctext\")\n",
    "\n",
    "#TOC is table of contents\n",
    "#toctext is the text from the table of contents"
   ]
  },
  {
   "cell_type": "code",
   "execution_count": 9,
   "metadata": {},
   "outputs": [
    {
     "name": "stdout",
     "output_type": "stream",
     "text": [
      "Early life and education\n",
      "Career\n",
      "World War II\n",
      "UNIVAC\n",
      "COBOL\n",
      "Standards\n",
      "Retirement\n",
      "Post-retirement\n",
      "Anecdotes\n",
      "Death\n",
      "Dates of rank\n",
      "Awards and honors\n",
      "Military awards\n",
      "Other awards\n",
      "Legacy\n",
      "Places\n",
      "Programs\n",
      "In popular culture\n",
      "Grace Hopper Celebration of Women in Computing\n",
      "Notes\n",
      "Obituary notices\n",
      "See also\n",
      "References\n",
      "Further reading\n",
      "External links\n"
     ]
    }
   ],
   "source": [
    "for item in soup.select(\".toctext\"):\n",
    "    print(item.text)"
   ]
  },
  {
   "cell_type": "markdown",
   "metadata": {},
   "source": [
    "#### Task 2: Getting an image from a website\n",
    "#### https://en.wikipedia.org/wiki/Deep_Blue_(chess_computer)"
   ]
  },
  {
   "cell_type": "code",
   "execution_count": 10,
   "metadata": {},
   "outputs": [],
   "source": [
    "res = requests.get(\"https://en.wikipedia.org/wiki/Deep_Blue_(chess_computer\")"
   ]
  },
  {
   "cell_type": "code",
   "execution_count": 11,
   "metadata": {},
   "outputs": [],
   "source": [
    "soup = bs4.BeautifulSoup(res.text,'lxml')"
   ]
  },
  {
   "cell_type": "code",
   "execution_count": 12,
   "metadata": {},
   "outputs": [],
   "source": [
    "image_info = soup.select('.thumbimage') #an image that contains a thumbnail(small or consise description)"
   ]
  },
  {
   "cell_type": "code",
   "execution_count": 13,
   "metadata": {},
   "outputs": [
    {
     "data": {
      "text/plain": [
       "[]"
      ]
     },
     "execution_count": 13,
     "metadata": {},
     "output_type": "execute_result"
    }
   ],
   "source": [
    "image_info"
   ]
  },
  {
   "cell_type": "code",
   "execution_count": 14,
   "metadata": {},
   "outputs": [
    {
     "data": {
      "text/plain": [
       "0"
      ]
     },
     "execution_count": 14,
     "metadata": {},
     "output_type": "execute_result"
    }
   ],
   "source": [
    "len(image_info)"
   ]
  },
  {
   "cell_type": "code",
   "execution_count": 15,
   "metadata": {},
   "outputs": [],
   "source": [
    "image_link = requests.get(\"https://en.wikipedia.org/wiki/File:Deep_Blue.jpg\")"
   ]
  },
  {
   "cell_type": "code",
   "execution_count": 16,
   "metadata": {},
   "outputs": [
    {
     "data": {
      "text/plain": [
       "b'<!DOCTYPE html>\\n<html class=\"client-nojs\" lang=\"en\" dir=\"ltr\">\\n<head>\\n<meta charset=\"UTF-8\"/>\\n<title>File:Deep Blue.jpg - Wikipedia</title>\\n<script>document.documentElement.className=\"client-js\";RLCONF={\"wgBreakFrames\":!1,\"wgSeparatorTransformTable\":[\"\",\"\"],\"wgDigitTransformTable\":[\"\",\"\"],\"wgDefaultDateFormat\":\"dmy\",\"wgMonthNames\":[\"\",\"January\",\"February\",\"March\",\"April\",\"May\",\"June\",\"July\",\"August\",\"September\",\"October\",\"November\",\"December\"],\"wgRequestId\":\"9e2952b4-835e-4035-810a-e1527dcf5c35\",\"wgCSPNonce\":!1,\"wgCanonicalNamespace\":\"File\",\"wgCanonicalSpecialPageName\":!1,\"wgNamespaceNumber\":6,\"wgPageName\":\"File:Deep_Blue.jpg\",\"wgTitle\":\"Deep Blue.jpg\",\"wgCurRevisionId\":0,\"wgRevisionId\":0,\"wgArticleId\":0,\"wgIsArticle\":!0,\"wgIsRedirect\":!1,\"wgAction\":\"view\",\"wgUserName\":null,\"wgUserGroups\":[\"*\"],\"wgCategories\":[],\"wgPageContentLanguage\":\"en\",\"wgPageContentModel\":\"wikitext\",\"wgRelevantPageName\":\"File:Deep_Blue.jpg\",\"wgRelevantArticleId\":0,\"wgIsProbablyEditable\":!1,\"wgRelevantPageIsProbablyEditable\":!1,\"wgRestrictionCreate\":[],\"wgRestrictionUpload\":[],\"wgMediaViewerOnClick\":!0,\"wgMediaViewerEnabledByDefault\":\\n!0,\"wgPopupsReferencePreviews\":!1,\"wgPopupsConflictsWithNavPopupGadget\":!1,\"wgVisualEditor\":{\"pageLanguageCode\":\"en\",\"pageLanguageDir\":\"ltr\",\"pageVariantFallbacks\":\"en\"},\"wgMFDisplayWikibaseDescriptions\":{\"search\":!0,\"nearby\":!0,\"watchlist\":!0,\"tagline\":!1},\"wgWMESchemaEditAttemptStepOversample\":!1,\"wgULSCurrentAutonym\":\"English\",\"wgNoticeProject\":\"wikipedia\",\"wgCentralAuthMobileDomain\":!1,\"wgEditSubmitButtonLabelPublish\":!0,\"wgULSPosition\":\"interlanguage\"};RLSTATE={\"ext.globalCssJs.user.styles\":\"ready\",\"site.styles\":\"ready\",\"noscript\":\"ready\",\"user.styles\":\"ready\",\"ext.globalCssJs.user\":\"ready\",\"user\":\"ready\",\"user.options\":\"loading\",\"filepage\":\"ready\",\"mediawiki.action.view.filepage\":\"ready\",\"skins.vector.styles.legacy\":\"ready\",\"ext.visualEditor.desktopArticleTarget.noscript\":\"ready\",\"ext.uls.interlanguage\":\"ready\",\"ext.wikimediaBadges\":\"ready\"};RLPAGEMODULES=[\"mediawiki.action.view.metadata\",\"site\",\"mediawiki.page.ready\",\"skins.vector.legacy.js\",\\n\"ext.gadget.ReferenceTooltips\",\"ext.gadget.charinsert\",\"ext.gadget.extra-toolbar-buttons\",\"ext.gadget.refToolbar\",\"ext.gadget.switcher\",\"ext.centralauth.centralautologin\",\"mmv.head\",\"mmv.bootstrap.autostart\",\"ext.popups\",\"ext.visualEditor.desktopArticleTarget.init\",\"ext.visualEditor.targetLoader\",\"ext.eventLogging\",\"ext.wikimediaEvents\",\"ext.navigationTiming\",\"ext.uls.compactlinks\",\"ext.uls.interface\",\"ext.cx.eventlogging.campaigns\",\"ext.centralNotice.geoIP\",\"ext.centralNotice.startUp\"];</script>\\n<script>(RLQ=window.RLQ||[]).push(function(){mw.loader.implement(\"user.options@1hzgi\",function($,jQuery,require,module){/*@nomin*/mw.user.tokens.set({\"patrolToken\":\"+\\\\\\\\\",\"watchToken\":\"+\\\\\\\\\",\"csrfToken\":\"+\\\\\\\\\"});\\n});});</script>\\n<link rel=\"stylesheet\" href=\"/w/load.php?lang=en&amp;modules=ext.uls.interlanguage%7Cext.visualEditor.desktopArticleTarget.noscript%7Cext.wikimediaBadges%7Cfilepage%7Cmediawiki.action.view.filepage%7Cskins.vector.styles.legacy&amp;only=styles&amp;skin=vector\"/>\\n<script async=\"\" src=\"/w/load.php?lang=en&amp;modules=startup&amp;only=scripts&amp;raw=1&amp;skin=vector\"></script>\\n<link rel=\"stylesheet\" href=\"https://commons.wikimedia.org/w/index.php?title=MediaWiki:Filepage.css&amp;action=raw&amp;ctype=text/css\"/>\\n<meta name=\"ResourceLoaderDynamicStyles\" content=\"\"/>\\n<link rel=\"stylesheet\" href=\"/w/load.php?lang=en&amp;modules=site.styles&amp;only=styles&amp;skin=vector\"/>\\n<meta name=\"generator\" content=\"MediaWiki 1.36.0-wmf.8\"/>\\n<meta name=\"referrer\" content=\"origin\"/>\\n<meta name=\"referrer\" content=\"origin-when-crossorigin\"/>\\n<meta name=\"referrer\" content=\"origin-when-cross-origin\"/>\\n<meta property=\"og:image\" content=\"https://upload.wikimedia.org/wikipedia/commons/b/be/Deep_Blue.jpg\"/>\\n<link rel=\"alternate\" media=\"only screen and (max-width: 720px)\" href=\"//en.m.wikipedia.org/wiki/File:Deep_Blue.jpg\"/>\\n<link rel=\"apple-touch-icon\" href=\"/static/apple-touch/wikipedia.png\"/>\\n<link rel=\"shortcut icon\" href=\"/static/favicon/wikipedia.ico\"/>\\n<link rel=\"search\" type=\"application/opensearchdescription+xml\" href=\"/w/opensearch_desc.php\" title=\"Wikipedia (en)\"/>\\n<link rel=\"EditURI\" type=\"application/rsd+xml\" href=\"//en.wikipedia.org/w/api.php?action=rsd\"/>\\n<link rel=\"license\" href=\"//creativecommons.org/licenses/by-sa/3.0/\"/>\\n<link rel=\"canonical\" href=\"https://commons.wikimedia.org/wiki/File:Deep_Blue.jpg\"/>\\n<link rel=\"dns-prefetch\" href=\"//login.wikimedia.org\"/>\\n<link rel=\"dns-prefetch\" href=\"//meta.wikimedia.org\" />\\n</head>\\n<body class=\"mediawiki ltr sitedir-ltr mw-hide-empty-elt ns-6 ns-subject mw-editable page-File_Deep_Blue_jpg rootpage-File_Deep_Blue_jpg skin-vector action-view skin-vector-legacy\"><div id=\"mw-page-base\" class=\"noprint\"></div>\\n<div id=\"mw-head-base\" class=\"noprint\"></div>\\n<div id=\"content\" class=\"mw-body\" role=\"main\">\\n\\t<a id=\"top\"></a>\\n\\t<div id=\"siteNotice\" class=\"mw-body-content\"><!-- CentralNotice --></div>\\n\\t<div class=\"mw-indicators mw-body-content\">\\n\\t<div id=\"mw-indicator-commons-icon\" class=\"mw-indicator\"><a href=\"https://commons.wikimedia.org/wiki/File:Deep_Blue.jpg\" title=\"This is a file from the Wikimedia Commons\"><img alt=\"This is a file from the Wikimedia Commons\" src=\"//upload.wikimedia.org/wikipedia/en/thumb/4/4a/Commons-logo.svg/15px-Commons-logo.svg.png\" decoding=\"async\" width=\"15\" height=\"20\" srcset=\"//upload.wikimedia.org/wikipedia/en/thumb/4/4a/Commons-logo.svg/22px-Commons-logo.svg.png 1.5x, //upload.wikimedia.org/wikipedia/en/thumb/4/4a/Commons-logo.svg/30px-Commons-logo.svg.png 2x\" data-file-width=\"1024\" data-file-height=\"1376\" /></a></div>\\n\\t</div>\\n\\t<h1 id=\"firstHeading\" class=\"firstHeading\" lang=\"en\">File:Deep Blue.jpg</h1>\\n\\t<div id=\"bodyContent\" class=\"mw-body-content\">\\n\\t\\t<div id=\"siteSub\" class=\"noprint\">From Wikipedia, the free encyclopedia</div>\\n\\t\\t<div id=\"contentSub\"></div>\\n\\t\\t<div id=\"contentSub2\"></div>\\n\\t\\t\\n\\t\\t<div id=\"jump-to-nav\"></div>\\n\\t\\t<a class=\"mw-jump-link\" href=\"#mw-head\">Jump to navigation</a>\\n\\t\\t<a class=\"mw-jump-link\" href=\"#searchInput\">Jump to search</a>\\n\\t\\t<div id=\"mw-content-text\"><ul id=\"filetoc\"><li><a href=\"#file\">File</a></li>\\n<li><a href=\"#filehistory\">File history</a></li>\\n<li><a href=\"#filelinks\">File usage</a></li>\\n<li><a href=\"#globalusage\">Global file usage</a></li>\\n<li><a href=\"#metadata\">Metadata</a></li></ul><div class=\"fullImageLink\" id=\"file\"><a href=\"//upload.wikimedia.org/wikipedia/commons/b/be/Deep_Blue.jpg\"><img alt=\"File:Deep Blue.jpg\" src=\"//upload.wikimedia.org/wikipedia/commons/thumb/b/be/Deep_Blue.jpg/399px-Deep_Blue.jpg\" decoding=\"async\" width=\"399\" height=\"599\" srcset=\"//upload.wikimedia.org/wikipedia/commons/b/be/Deep_Blue.jpg 1.5x\" data-file-width=\"400\" data-file-height=\"601\" /></a><div class=\"mw-filepage-resolutioninfo\">Size of this preview: <a href=\"//upload.wikimedia.org/wikipedia/commons/thumb/b/be/Deep_Blue.jpg/399px-Deep_Blue.jpg\" class=\"mw-thumbnail-link\">399 \\xc3\\x97 599 pixels</a>. <span class=\"mw-filepage-other-resolutions\">Other resolutions: <a href=\"//upload.wikimedia.org/wikipedia/commons/thumb/b/be/Deep_Blue.jpg/160px-Deep_Blue.jpg\" class=\"mw-thumbnail-link\">160 \\xc3\\x97 240 pixels</a> | <a href=\"//upload.wikimedia.org/wikipedia/commons/b/be/Deep_Blue.jpg\" class=\"mw-thumbnail-link\">400 \\xc3\\x97 601 pixels</a>.</span></div></div>\\n<div class=\"fullMedia\"><p><a href=\"//upload.wikimedia.org/wikipedia/commons/b/be/Deep_Blue.jpg\" class=\"internal\" title=\"Deep Blue.jpg\">Original file</a> &#8206;<span class=\"fileInfo\">(400 \\xc3\\x97 601 pixels, file size: 95 KB, MIME type: <span class=\"mime-type\">image/jpeg</span>)</span>\\n</p></div><div class=\"sharedUploadNotice\">\\n<table id=\"mw-sharedupload\" class=\"plainlinks fmbox fmbox-system\" role=\"presentation\"><tbody><tr><td class=\"mbox-image\"><img alt=\"\" src=\"//upload.wikimedia.org/wikipedia/en/thumb/4/4a/Commons-logo.svg/30px-Commons-logo.svg.png\" decoding=\"async\" title=\"Wikimedia Commons logo\" width=\"30\" height=\"40\" class=\"noviewer\" srcset=\"//upload.wikimedia.org/wikipedia/en/thumb/4/4a/Commons-logo.svg/45px-Commons-logo.svg.png 1.5x, //upload.wikimedia.org/wikipedia/en/thumb/4/4a/Commons-logo.svg/59px-Commons-logo.svg.png 2x\" data-file-width=\"1024\" data-file-height=\"1376\" /></td><td class=\"mbox-text\" style=\"text-align: center;\">This is a file from the <a href=\"https://commons.wikimedia.org/wiki/Main_Page\" class=\"extiw\" title=\"commons:Main Page\">Wikimedia Commons</a>. Information from its <b><a href=\"https://commons.wikimedia.org/wiki/File:Deep_Blue.jpg\" class=\"extiw\" title=\"commons:File:Deep Blue.jpg\">description page there</a></b> is shown below.<br /><span style=\"font-size: smaller;\">Commons is a freely licensed media file repository. <a href=\"https://commons.wikimedia.org/wiki/Commons:Welcome\" class=\"extiw\" title=\"commons:Commons:Welcome\">You can help</a>.</span></td></tr></tbody></table>\\n</div>\\n<div id=\"shared-image-desc\"><div class=\"mw-parser-output\"><h2><span class=\"mw-headline\" id=\"Summary\">Summary</span></h2>\\n<div class=\"hproduct commons-file-information-table\">\\n<table class=\"fileinfotpl-type-information toccolours vevent mw-content-ltr\" style=\"width: 100%; direction: ltr;\" cellpadding=\"4\">\\n\\n<tbody><tr style=\"vertical-align: top\">\\n<td id=\"fileinfotpl_desc\" class=\"fileinfo-paramfield\" lang=\"en\">Description<span class=\"summary fn\" style=\"display:none\">Deep Blue.jpg</span></td>\\n<td class=\"description\">\\n<div class=\"description mw-content-ltr en\" dir=\"ltr\" lang=\"en\" style=\"\"><span class=\"language en\" title=\"\"><b>English:</b></span> <a href=\"https://en.wikipedia.org/wiki/Deep_Blue_(chess_computer)\" class=\"extiw\" title=\"w:Deep Blue (chess computer)\">Deep Blue</a>, a computer similar to this one defeated chess world champion <a href=\"https://en.wikipedia.org/wiki/Garry_Kasparov\" class=\"extiw\" title=\"w:Garry Kasparov\">Garry Kasparov</a> in May 1997.  It is the first computer to win a match against a world champion. Photo taken at the <a href=\"https://en.wikipedia.org/wiki/Computer_History_Museum\" class=\"extiw\" title=\"w:Computer History Museum\">Computer History Museum</a>.</div>\\n<div class=\"description mw-content-ltr de\" dir=\"ltr\" lang=\"de\" style=\"\"><span class=\"language de\" title=\"Deutsch\"><b>Deutsch:</b></span> <a href=\"https://de.wikipedia.org/wiki/Deep_Blue\" class=\"extiw\" title=\"de:Deep Blue\">Deep Blue</a>, ein Computer \\xc3\\xa4hnlich wie dieser besiegte im Mai 1997 den Schachweltmeister <a href=\"https://de.wikipedia.org/wiki/Garri_Kimowitsch_Kasparow\" class=\"extiw\" title=\"de:Garri Kimowitsch Kasparow\">Garry Kasparow</a>. Es ist der erste Computer, der je ein Spiel gegen einen Schachweltmeister gewinnen konnte. Foto aufgenommen im <a href=\"https://de.wikipedia.org/wiki/Computer_History_Museum\" class=\"extiw\" title=\"de:Computer History Museum\">Computer History Museum</a>.</div></td>\\n</tr>\\n\\n<tr style=\"vertical-align: top\">\\n<td id=\"fileinfotpl_date\" class=\"fileinfo-paramfield\" lang=\"en\">Date</td>\\n<td lang=\"en\">\\n<span style=\"white-space:nowrap\"><time class=\"dtstart\" datetime=\"2007-06-14\">14 June 2007</time></span></td>\\n</tr>\\n\\n<tr style=\"vertical-align: top\">\\n<td id=\"fileinfotpl_src\" class=\"fileinfo-paramfield\" lang=\"en\">Source</td>\\n<td>\\n<a rel=\"nofollow\" class=\"external free\" href=\"https://www.flickr.com/photos/22453761@N00/592436598/\">https://www.flickr.com/photos/22453761@N00/592436598/</a></td>\\n</tr>\\n\\n<tr style=\"vertical-align: top\">\\n<td id=\"fileinfotpl_aut\" class=\"fileinfo-paramfield\" lang=\"en\">Author</td>\\n<td>\\n<a rel=\"nofollow\" class=\"external text\" href=\"https://www.flickr.com/photos/jamesthephotographer/\">James the photographer</a></td>\\n</tr>\\n\\n<tr style=\"vertical-align: top\">\\n<td id=\"fileinfotpl_perm\" class=\"fileinfo-paramfield\" lang=\"en\">Permission<br /><small>(<a href=\"//commons.wikimedia.org/wiki/Commons:Reusing_content_outside_Wikimedia\" title=\"Commons:Reusing content outside Wikimedia\">Reusing this file</a>)</small></td>\\n<td>\\n<a rel=\"nofollow\" class=\"external text\" href=\"https://creativecommons.org/licenses/by/2.0/deed.de\">CC-BY</a></td>\\n</tr>\\n\\n\\n</tbody></table>\\n</div>\\n<h2><span class=\"mw-headline\" id=\"Licensing\">Licensing</span></h2>\\n<table style=\"width:100%; clear:both; text-align:center; margin:0.5em auto; background-color:#f9f9f9; border:2px solid #e0e0e0; padding: 0; border-spacing: 8px;\" class=\"layouttemplate licensetpl mw-content-ltr\" lang=\"en\">\\n<tbody><tr>\\n<td style=\"width:90px;\" rowspan=\"3\"><img alt=\"w:en:Creative Commons\" src=\"https://upload.wikimedia.org/wikipedia/commons/thumb/7/79/CC_some_rights_reserved.svg/90px-CC_some_rights_reserved.svg.png\" decoding=\"async\" title=\"w:en:Creative Commons\" width=\"90\" height=\"36\" srcset=\"https://upload.wikimedia.org/wikipedia/commons/thumb/7/79/CC_some_rights_reserved.svg/135px-CC_some_rights_reserved.svg.png 1.5x, https://upload.wikimedia.org/wikipedia/commons/thumb/7/79/CC_some_rights_reserved.svg/180px-CC_some_rights_reserved.svg.png 2x\" data-file-width=\"744\" data-file-height=\"300\" /><br /><img alt=\"attribution\" src=\"https://upload.wikimedia.org/wikipedia/commons/thumb/1/11/Cc-by_new_white.svg/24px-Cc-by_new_white.svg.png\" decoding=\"async\" title=\"attribution\" width=\"24\" height=\"24\" srcset=\"https://upload.wikimedia.org/wikipedia/commons/thumb/1/11/Cc-by_new_white.svg/36px-Cc-by_new_white.svg.png 1.5x, https://upload.wikimedia.org/wikipedia/commons/thumb/1/11/Cc-by_new_white.svg/48px-Cc-by_new_white.svg.png 2x\" data-file-width=\"64\" data-file-height=\"64\" />\\n</td>\\n<td>This file is licensed under the <a href=\"https://en.wikipedia.org/wiki/en:Creative_Commons\" class=\"extiw\" title=\"w:en:Creative Commons\">Creative Commons</a> <a rel=\"nofollow\" class=\"external text\" href=\"https://creativecommons.org/licenses/by/2.0/deed.en\">Attribution 2.0 Generic</a> license.\\n</td>\\n<td style=\"width:90px;\" rowspan=\"3\">\\n</td></tr>\\n<tr style=\"text-align:center;\">\\n<td>\\n</td></tr>\\n<tr style=\"text-align:left;\">\\n<td>\\n<dl><dd>You are free:\\n<ul><li><b>to share</b> \\xe2\\x80\\x93 to copy, distribute and transmit the work</li>\\n<li><b>to remix</b> \\xe2\\x80\\x93 to adapt the work</li></ul></dd>\\n<dd>Under the following conditions:\\n<ul><li><b>attribution</b> \\xe2\\x80\\x93 You must give appropriate credit, provide a link to the license, and indicate if changes were made. You may do so in any reasonable manner, but not in any way that suggests the licensor endorses you or your use.</li></ul></dd></dl>\\n<p><span class=\"licensetpl_link\" style=\"display:none;\">https://creativecommons.org/licenses/by/2.0\\n</span><span class=\"licensetpl_short\" style=\"display:none;\">CC BY 2.0 \\n</span><span class=\"licensetpl_long\" style=\"display:none;\">Creative Commons Attribution 2.0 \\n</span><span class=\"licensetpl_link_req\" style=\"display:none;\">true</span><span class=\"licensetpl_attr_req\" style=\"display:none;\">true</span>\\n</p>\\n</td></tr></tbody></table>\\n<table id=\"FlickrReview\" style=\"width:100%; margin:0.5em auto; background: #eeffee; padding: 5px; border: 1px solid #aaaa88; direction: ltr;\" lang=\"en\">\\n\\n<tbody><tr>\\n<td><img alt=\"Checked copyright icon.svg\" src=\"https://upload.wikimedia.org/wikipedia/commons/thumb/9/95/Checked_copyright_icon.svg/50px-Checked_copyright_icon.svg.png\" decoding=\"async\" width=\"50\" height=\"48\" srcset=\"https://upload.wikimedia.org/wikipedia/commons/thumb/9/95/Checked_copyright_icon.svg/75px-Checked_copyright_icon.svg.png 1.5x, https://upload.wikimedia.org/wikipedia/commons/thumb/9/95/Checked_copyright_icon.svg/100px-Checked_copyright_icon.svg.png 2x\" data-file-width=\"160\" data-file-height=\"153\" />\\n</td>\\n<td>This image, originally posted to <b><a href=\"//commons.wikimedia.org/wiki/Commons:Flickr\" class=\"mw-redirect\" title=\"Commons:Flickr\">Flickr</a></b>, was reviewed on <span style=\"white-space:nowrap\"><time class=\"dtstart\" datetime=\"2008-02-06\">6 February 2008</time></span> by the <a href=\"//commons.wikimedia.org/wiki/Commons:A\" class=\"mw-redirect\" title=\"Commons:A\">administrator</a> or <a href=\"//commons.wikimedia.org/wiki/Commons:License_review\" title=\"Commons:License review\">reviewer</a> <b><a href=\"//commons.wikimedia.org/wiki/User:RedCoat\" title=\"User:RedCoat\">RedCoat</a></b>, who confirmed that it was available on Flickr under the stated license on that date.\\n</td></tr></tbody></table>\\n<!-- \\nNewPP limit report\\nParsed by mw2269\\nCached time: 20200912161126\\nCache expiry: 2592000\\nDynamic content: false\\nComplications: []\\nCPU time usage: 0.108 seconds\\nReal time usage: 0.171 seconds\\nPreprocessor visited node count: 698/1000000\\nPost\\xe2\\x80\\x90expand include size: 16211/2097152 bytes\\nTemplate argument size: 3680/2097152 bytes\\nHighest expansion depth: 12/40\\nExpensive parser function count: 2/500\\nUnstrip recursion depth: 0/20\\nUnstrip post\\xe2\\x80\\x90expand size: 8/5000000 bytes\\nLua time usage: 0.034/10.000 seconds\\nLua memory usage: 1.23 MB/50 MB\\nNumber of Wikibase entities loaded: 1/400\\n-->\\n<!--\\nTransclusion expansion time report (%,ms,calls,template)\\n100.00%  142.816      1 -total\\n 50.20%   71.699      1 Template:Information\\n 30.27%   43.225      1 Template:Flickrreview\\n 19.22%   27.456      1 Template:Cc-by-2.0\\n 14.89%   21.262      1 Template:Autotranslate\\n 14.20%   20.281      1 Template:Cc-by-layout\\n 10.83%   15.471      1 Template:En\\n  8.86%   12.648      2 Template:Description\\n  8.33%   11.900      1 Template:Iffile\\n  8.06%   11.516      5 Template:SDC_statement_exist\\n-->\\n<h1 class=\"mw-slot-header\"><mediainfoslotheader /></h1><mediainfoview style=\"display: none\"><mediainfoviewcaptions><div class=\\'wbmi-entityview-captionsPanel oo-ui-layout oo-ui-panelLayout oo-ui-panelLayout-framed\\'><h3 class=\\'wbmi-entityview-captions-header\\'>Captions</h3><div class=\\'wbmi-entityview-caption oo-ui-layout oo-ui-horizontalLayout\\'><label aria-disabled=\\'false\\' class=\\'wbmi-language-label oo-ui-widget oo-ui-widget-enabled oo-ui-labelElement-label oo-ui-labelElement oo-ui-labelWidget\\'>English</label><div lang=\\'en\\' dir=\\'ltr\\' class=\\'wbmi-caption-value wbmi-entityview-emptyCaption\\'>Add a one-line explanation of what this file represents</div></div><div style=\\'display:none;\\' class=\\'wbmi-entityview-caption wbmi-entityview-hideable oo-ui-layout oo-ui-horizontalLayout\\'><label aria-disabled=\\'false\\' class=\\'wbmi-language-label oo-ui-widget oo-ui-widget-enabled oo-ui-labelElement-label oo-ui-labelElement oo-ui-labelWidget\\'>Basque</label><div lang=\\'eu\\' dir=\\'ltr\\' class=\\'wbmi-caption-value\\'>IBM enpresako Deep Blue. Argazkikoa bezalako ordenagailua ospetsu bihurtu zen munduko xake txapeldunari, Kasparovi, irabazi zionean. Historian lehen makina izan zen munduko txapeldun bati irabazten. Argazkia: Computer History Museum</div></div><div style=\\'display:none;\\' class=\\'wbmi-entityview-caption wbmi-entityview-hideable oo-ui-layout oo-ui-horizontalLayout\\'><label aria-disabled=\\'false\\' class=\\'wbmi-language-label oo-ui-widget oo-ui-widget-enabled oo-ui-labelElement-label oo-ui-labelElement oo-ui-labelWidget\\'>Hebrew</label><div lang=\\'he\\' dir=\\'rtl\\' class=\\'wbmi-caption-value\\'>\\xd7\\x9b\\xd7\\x97\\xd7\\x95\\xd7\\x9c \\xd7\\xa2\\xd7\\x9e\\xd7\\x95\\xd7\\xa7</div></div></div></mediainfoviewcaptions><mediainfoviewstatements><div id=\\'P180\\' data-property=\\'P180\\' data-statements=\\'[]\\' data-formatvalue=\\'[]\\' class=\\'wbmi-entityview-statementsGroup wbmi-entityview-statementsGroup-P180 oo-ui-layout oo-ui-panelLayout oo-ui-panelLayout-framed\\'><div class=\\'wbmi-statements-widget\\'><div class=\\'wbmi-statement-header\\'><div class=\\'wbmi-entity-data\\'><div class=\\'wbmi-entity-title\\'><h3 class=\\'wbmi-statements-title\\'>Items portrayed in this file</h3><h4 class=\\'wbmi-entity-label\\'><bdi><a target=\"_blank\" title=\"d:Special:EntityPage/P180\" href=\"https://www.wikidata.org/wiki/Special:EntityPage/P180\">depicts</a></bdi></h4></div></div></div><div class=\\'wbmi-content-items-group\\'></div></div></div></mediainfoviewstatements></mediainfoview>\\n<!-- Saved in parser cache with key commonswiki:pcache:idhash:3511068-1!wb=3 and timestamp 20200912161126 and revision id 440025324\\n -->\\n</div></div>\\n<h2 id=\"filehistory\">File history</h2>\\n<div id=\"mw-imagepage-section-filehistory\">\\n<p>Click on a date/time to view the file as it appeared at that time.\\n</p>\\n<table class=\"wikitable filehistory\">\\n<tr><th></th><th>Date/Time</th><th>Thumbnail</th><th>Dimensions</th><th>User</th><th>Comment</th></tr>\\n<tr><td>current</td><td class=\\'filehistory-selected\\' style=\\'white-space: nowrap;\\'><a href=\"//upload.wikimedia.org/wikipedia/commons/b/be/Deep_Blue.jpg\">05:26, 15 February 2010</a></td><td><a href=\"//upload.wikimedia.org/wikipedia/commons/b/be/Deep_Blue.jpg\"><img alt=\"Thumbnail for version as of 05:26, 15 February 2010\" src=\"//upload.wikimedia.org/wikipedia/commons/thumb/b/be/Deep_Blue.jpg/80px-Deep_Blue.jpg\" decoding=\"async\" width=\"80\" height=\"120\" data-file-width=\"400\" data-file-height=\"601\" /></a></td><td>400 \\xc3\\x97 601 <span style=\"white-space: nowrap;\">(95 KB)</span></td><td>Kimse</td><td dir=\"ltr\">Original resolution from Flickr</td></tr>\\n<tr><td></td><td  style=\\'white-space: nowrap;\\'><a href=\"//upload.wikimedia.org/wikipedia/commons/archive/b/be/20100215052623%21Deep_Blue.jpg\">14:52, 6 February 2008</a></td><td><a href=\"//upload.wikimedia.org/wikipedia/commons/archive/b/be/20100215052623%21Deep_Blue.jpg\"><img alt=\"Thumbnail for version as of 14:52, 6 February 2008\" src=\"//upload.wikimedia.org/wikipedia/commons/thumb/archive/b/be/20100215052623%21Deep_Blue.jpg/80px-Deep_Blue.jpg\" decoding=\"async\" width=\"80\" height=\"120\" data-file-width=\"333\" data-file-height=\"500\" /></a></td><td>333 \\xc3\\x97 500 <span style=\"white-space: nowrap;\">(80 KB)</span></td><td>Conspiration</td><td dir=\"ltr\">{{Information |Description=<a href=\"/wiki/Deep_Blue_(chess_computer)\" title=\"Deep Blue (chess computer)\">w:Deep Blue (chess computer)</a>, the computer who defeated chess world champion <a href=\"/wiki/Garry_Kasparov\" title=\"Garry Kasparov\">w:Garry Kasparov</a> in May 1997 and the first computer to win a match against a world champion. The tag on flickr suggests the photo was taken i</td></tr>\\n</table>\\n\\n</div>\\n<h2 id=\"filelinks\">File usage</h2>\\n<div id=\\'mw-imagepage-section-linkstoimage\\'>\\n<div class=\"linkstoimage\" id=\"linkstoimage\">The following pages on the English Wikipedia use this file (pages on other projects are not listed):</div><ul class=\"mw-imagepage-linkstoimage\">\\n<li class=\"mw-imagepage-linkstoimage-ns0\"><a href=\"/wiki/Advanced_chess\" title=\"Advanced chess\">Advanced chess</a></li>\\n<li class=\"mw-imagepage-linkstoimage-ns0\"><a href=\"/wiki/Deep_Blue_(chess_computer)\" title=\"Deep Blue (chess computer)\">Deep Blue (chess computer)</a></li>\\n<li class=\"mw-imagepage-linkstoimage-ns0\"><a href=\"/wiki/Deep_Blue_versus_Garry_Kasparov\" title=\"Deep Blue versus Garry Kasparov\">Deep Blue versus Garry Kasparov</a></li>\\n<li class=\"mw-imagepage-linkstoimage-ns0\"><a href=\"/wiki/Deep_Blue_versus_Kasparov,_1996,_Game_1\" title=\"Deep Blue versus Kasparov, 1996, Game 1\">Deep Blue versus Kasparov, 1996, Game 1</a></li>\\n<li class=\"mw-imagepage-linkstoimage-ns0\"><a href=\"/wiki/Deep_Blue_versus_Kasparov,_1997,_Game_6\" title=\"Deep Blue versus Kasparov, 1997, Game 6\">Deep Blue versus Kasparov, 1997, Game 6</a></li>\\n<li class=\"mw-imagepage-linkstoimage-ns0\"><a href=\"/wiki/History_of_robots\" title=\"History of robots\">History of robots</a></li>\\n<li class=\"mw-imagepage-linkstoimage-ns0\"><a href=\"/wiki/Playing_God_(ethics)\" title=\"Playing God (ethics)\">Playing God (ethics)</a></li>\\n<li class=\"mw-imagepage-linkstoimage-ns0\"><a href=\"/wiki/Progress_in_artificial_intelligence\" title=\"Progress in artificial intelligence\">Progress in artificial intelligence</a></li>\\n<li class=\"mw-imagepage-linkstoimage-ns2\"><a href=\"/wiki/User:Fred_Gandt/sandbox/chessDemo/Example_article_1\" title=\"User:Fred Gandt/sandbox/chessDemo/Example article 1\">User:Fred Gandt/sandbox/chessDemo/Example article 1</a></li>\\n<li class=\"mw-imagepage-linkstoimage-ns2\"><a href=\"/wiki/User:Fred_Gandt/sandbox/chessDemo/Example_article_2\" title=\"User:Fred Gandt/sandbox/chessDemo/Example article 2\">User:Fred Gandt/sandbox/chessDemo/Example article 2</a></li>\\n<li class=\"mw-imagepage-linkstoimage-ns2\"><a href=\"/wiki/User:NOrbeck\" title=\"User:NOrbeck\">User:NOrbeck</a></li>\\n<li class=\"mw-imagepage-linkstoimage-ns2\"><a href=\"/wiki/User:Rhododendrites/Deep_Blue_versus_Kasparov,_1996,_Game_1\" title=\"User:Rhododendrites/Deep Blue versus Kasparov, 1996, Game 1\">User:Rhododendrites/Deep Blue versus Kasparov, 1996, Game 1</a></li>\\n<li class=\"mw-imagepage-linkstoimage-ns2\"><a href=\"/wiki/User:Rhododendrites/Deep_Blue_versus_Kasparov,_1996,_Game_1_(pgn)\" title=\"User:Rhododendrites/Deep Blue versus Kasparov, 1996, Game 1 (pgn)\">User:Rhododendrites/Deep Blue versus Kasparov, 1996, Game 1 (pgn)</a></li>\\n<li class=\"mw-imagepage-linkstoimage-ns2\"><a href=\"/wiki/User:Rhododendrites/Deep_Blue_versus_Kasparov,_1996,_Game_1_(pgn1)\" title=\"User:Rhododendrites/Deep Blue versus Kasparov, 1996, Game 1 (pgn1)\">User:Rhododendrites/Deep Blue versus Kasparov, 1996, Game 1 (pgn1)</a></li>\\n<li class=\"mw-imagepage-linkstoimage-ns4\"><a href=\"/wiki/Wikipedia:Main_Page_history/2017_May_11\" title=\"Wikipedia:Main Page history/2017 May 11\">Wikipedia:Main Page history/2017 May 11</a></li>\\n<li class=\"mw-imagepage-linkstoimage-ns4\"><a href=\"/wiki/Wikipedia:Selected_anniversaries/May_11\" title=\"Wikipedia:Selected anniversaries/May 11\">Wikipedia:Selected anniversaries/May 11</a></li>\\n<li class=\"mw-imagepage-linkstoimage-ns100\"><a href=\"/wiki/Portal:Computer_programming\" title=\"Portal:Computer programming\">Portal:Computer programming</a></li>\\n<li class=\"mw-imagepage-linkstoimage-ns100\"><a href=\"/wiki/Portal:Computer_programming/Selected_picture/4\" title=\"Portal:Computer programming/Selected picture/4\">Portal:Computer programming/Selected picture/4</a></li>\\n</ul>\\n</div>\\n<h2 id=\"globalusage\">Global file usage</h2>\\n<div id=\"mw-imagepage-section-globalusage\"><p>The following other wikis use this file:\\n</p><ul>\\n<li class=\\'mw-gu-onwiki-ar_wikipedia_org\\'>Usage on ar.wikipedia.org\\n<ul>\\t<li><a class=\"external\" href=\"https://ar.wikipedia.org/wiki/%D8%B4%D8%B7%D8%B1%D9%86%D8%AC\">\\xd8\\xb4\\xd8\\xb7\\xd8\\xb1\\xd9\\x86\\xd8\\xac</a></li>\\n\\t<li><a class=\"external\" href=\"https://ar.wikipedia.org/wiki/%D8%AF%D9%8A%D8%A8_%D8%A8%D9%84%D9%88\">\\xd8\\xaf\\xd9\\x8a\\xd8\\xa8 \\xd8\\xa8\\xd9\\x84\\xd9\\x88</a></li>\\n\\t<li><a class=\"external\" href=\"https://ar.wikipedia.org/wiki/%D8%A8%D9%88%D8%A7%D8%A8%D8%A9:%D8%A8%D8%B1%D9%85%D8%AC%D8%A9_%D8%A7%D9%84%D8%AD%D8%A7%D8%B3%D9%88%D8%A8\">\\xd8\\xa8\\xd9\\x88\\xd8\\xa7\\xd8\\xa8\\xd8\\xa9:\\xd8\\xa8\\xd8\\xb1\\xd9\\x85\\xd8\\xac\\xd8\\xa9 \\xd8\\xa7\\xd9\\x84\\xd8\\xad\\xd8\\xa7\\xd8\\xb3\\xd9\\x88\\xd8\\xa8</a></li>\\n\\t<li><a class=\"external\" href=\"https://ar.wikipedia.org/wiki/%D8%A8%D9%88%D8%A7%D8%A8%D8%A9:%D8%A8%D8%B1%D9%85%D8%AC%D8%A9_%D8%A7%D9%84%D8%AD%D8%A7%D8%B3%D9%88%D8%A8/%D8%B5%D9%88%D8%B1%D8%A9_%D9%85%D8%AE%D8%AA%D8%A7%D8%B1%D8%A9/3\">\\xd8\\xa8\\xd9\\x88\\xd8\\xa7\\xd8\\xa8\\xd8\\xa9:\\xd8\\xa8\\xd8\\xb1\\xd9\\x85\\xd8\\xac\\xd8\\xa9 \\xd8\\xa7\\xd9\\x84\\xd8\\xad\\xd8\\xa7\\xd8\\xb3\\xd9\\x88\\xd8\\xa8/\\xd8\\xb5\\xd9\\x88\\xd8\\xb1\\xd8\\xa9 \\xd9\\x85\\xd8\\xae\\xd8\\xaa\\xd8\\xa7\\xd8\\xb1\\xd8\\xa9/3</a></li>\\n\\t<li><a class=\"external\" href=\"https://ar.wikipedia.org/wiki/%D8%A8%D9%88%D8%A7%D8%A8%D8%A9:%D8%A8%D8%B1%D9%85%D8%AC%D8%A9_%D8%A7%D9%84%D8%AD%D8%A7%D8%B3%D9%88%D8%A8/%D8%B5%D9%88%D8%B1%D8%A9_%D9%85%D8%AE%D8%AA%D8%A7%D8%B1%D8%A9/%D8%A3%D8%B1%D8%B4%D9%8A%D9%81\">\\xd8\\xa8\\xd9\\x88\\xd8\\xa7\\xd8\\xa8\\xd8\\xa9:\\xd8\\xa8\\xd8\\xb1\\xd9\\x85\\xd8\\xac\\xd8\\xa9 \\xd8\\xa7\\xd9\\x84\\xd8\\xad\\xd8\\xa7\\xd8\\xb3\\xd9\\x88\\xd8\\xa8/\\xd8\\xb5\\xd9\\x88\\xd8\\xb1\\xd8\\xa9 \\xd9\\x85\\xd8\\xae\\xd8\\xaa\\xd8\\xa7\\xd8\\xb1\\xd8\\xa9/\\xd8\\xa3\\xd8\\xb1\\xd8\\xb4\\xd9\\x8a\\xd9\\x81</a></li>\\n</ul></li>\\n<li class=\\'mw-gu-onwiki-az_wikipedia_org\\'>Usage on az.wikipedia.org\\n<ul>\\t<li><a class=\"external\" href=\"https://az.wikipedia.org/wiki/Deep_Blue\">Deep Blue</a></li>\\n</ul></li>\\n<li class=\\'mw-gu-onwiki-be-tarask_wikipedia_org\\'>Usage on be-tarask.wikipedia.org\\n<ul>\\t<li><a class=\"external\" href=\"https://be-tarask.wikipedia.org/wiki/Deep_Blue\">Deep Blue</a></li>\\n</ul></li>\\n<li class=\\'mw-gu-onwiki-be_wikipedia_org\\'>Usage on be.wikipedia.org\\n<ul>\\t<li><a class=\"external\" href=\"https://be.wikipedia.org/wiki/Deep_Blue\">Deep Blue</a></li>\\n</ul></li>\\n<li class=\\'mw-gu-onwiki-bn_wikipedia_org\\'>Usage on bn.wikipedia.org\\n<ul>\\t<li><a class=\"external\" href=\"https://bn.wikipedia.org/wiki/%E0%A6%97%E0%A7%8D%E0%A6%AF%E0%A6%BE%E0%A6%B0%E0%A6%BF_%E0%A6%95%E0%A6%BE%E0%A6%B8%E0%A6%AA%E0%A6%BE%E0%A6%B0%E0%A6%AD\">\\xe0\\xa6\\x97\\xe0\\xa7\\x8d\\xe0\\xa6\\xaf\\xe0\\xa6\\xbe\\xe0\\xa6\\xb0\\xe0\\xa6\\xbf \\xe0\\xa6\\x95\\xe0\\xa6\\xbe\\xe0\\xa6\\xb8\\xe0\\xa6\\xaa\\xe0\\xa6\\xbe\\xe0\\xa6\\xb0\\xe0\\xa6\\xad</a></li>\\n\\t<li><a class=\"external\" href=\"https://bn.wikipedia.org/wiki/%E0%A6%A1%E0%A7%80%E0%A6%AA_%E0%A6%AC%E0%A7%8D%E0%A6%B2%E0%A7%81\">\\xe0\\xa6\\xa1\\xe0\\xa7\\x80\\xe0\\xa6\\xaa \\xe0\\xa6\\xac\\xe0\\xa7\\x8d\\xe0\\xa6\\xb2\\xe0\\xa7\\x81</a></li>\\n</ul></li>\\n<li class=\\'mw-gu-onwiki-br_wikipedia_org\\'>Usage on br.wikipedia.org\\n<ul>\\t<li><a class=\"external\" href=\"https://br.wikipedia.org/wiki/Go_(c%27hoari)\">Go (c\\'hoari)</a></li>\\n</ul></li>\\n<li class=\\'mw-gu-onwiki-ca_wikipedia_org\\'>Usage on ca.wikipedia.org\\n<ul>\\t<li><a class=\"external\" href=\"https://ca.wikipedia.org/wiki/Deep_Blue\">Deep Blue</a></li>\\n\\t<li><a class=\"external\" href=\"https://ca.wikipedia.org/wiki/Deep_Blue_contra_Garri_Kasp%C3%A0rov\">Deep Blue contra Garri Kasp\\xc3\\xa0rov</a></li>\\n</ul></li>\\n<li class=\\'mw-gu-onwiki-cs_wikipedia_org\\'>Usage on cs.wikipedia.org\\n<ul>\\t<li><a class=\"external\" href=\"https://cs.wikipedia.org/wiki/Deep_Blue\">Deep Blue</a></li>\\n</ul></li>\\n<li class=\\'mw-gu-onwiki-da_wikipedia_org\\'>Usage on da.wikipedia.org\\n<ul>\\t<li><a class=\"external\" href=\"https://da.wikipedia.org/wiki/Deep_Blue\">Deep Blue</a></li>\\n</ul></li>\\n<li class=\\'mw-gu-onwiki-de_wikipedia_org\\'>Usage on de.wikipedia.org\\n<ul>\\t<li><a class=\"external\" href=\"https://de.wikipedia.org/wiki/1996\">1996</a></li>\\n\\t<li><a class=\"external\" href=\"https://de.wikipedia.org/wiki/Deep_Blue\">Deep Blue</a></li>\\n\\t<li><a class=\"external\" href=\"https://de.wikipedia.org/wiki/Deep_Blue_%E2%80%93_Kasparow,_Philadelphia_1996,_1._Wettkampfpartie\">Deep Blue \\xe2\\x80\\x93 Kasparow, Philadelphia 1996, 1. Wettkampfpartie</a></li>\\n\\t<li><a class=\"external\" href=\"https://de.wikipedia.org/wiki/Benutzer:ElTom/Baustelle\">Benutzer:ElTom/Baustelle</a></li>\\n</ul></li>\\n<li class=\\'mw-gu-onwiki-el_wikipedia_org\\'>Usage on el.wikipedia.org\\n<ul>\\t<li><a class=\"external\" href=\"https://el.wikipedia.org/wiki/Deep_blue\">Deep blue</a></li>\\n</ul></li>\\n<li class=\\'mw-gu-onwiki-en_wikivoyage_org\\'>Usage on en.wikivoyage.org\\n<ul>\\t<li><a class=\"external\" href=\"https://en.wikivoyage.org/wiki/Chess\">Chess</a></li>\\n</ul></li>\\n<li class=\\'mw-gu-onwiki-es_wikipedia_org\\'>Usage on es.wikipedia.org\\n<ul>\\t<li><a class=\"external\" href=\"https://es.wikipedia.org/wiki/Deep_Blue_(computadora)\">Deep Blue (computadora)</a></li>\\n</ul></li>\\n<li class=\\'mw-gu-onwiki-eu_wikipedia_org\\'>Usage on eu.wikipedia.org\\n<ul>\\t<li><a class=\"external\" href=\"https://eu.wikipedia.org/wiki/Adimen_artifizial\">Adimen artifizial</a></li>\\n\\t<li><a class=\"external\" href=\"https://eu.wikipedia.org/wiki/Gari_Kasparov\">Gari Kasparov</a></li>\\n\\t<li><a class=\"external\" href=\"https://eu.wikipedia.org/wiki/Deep_Blue\">Deep Blue</a></li>\\n</ul></li>\\n<li class=\\'mw-gu-onwiki-fa_wikipedia_org\\'>Usage on fa.wikipedia.org\\n<ul>\\t<li><a class=\"external\" href=\"https://fa.wikipedia.org/wiki/%D8%AF%DB%8C%D9%BE_%D8%A8%D9%84%D9%88\">\\xd8\\xaf\\xdb\\x8c\\xd9\\xbe \\xd8\\xa8\\xd9\\x84\\xd9\\x88</a></li>\\n\\t<li><a class=\"external\" href=\"https://fa.wikipedia.org/wiki/%D8%AF%DB%8C%D8%A8_%D8%A8%D9%84%D9%88_%D8%AF%D8%B1_%D9%85%D9%82%D8%A7%D8%A8%D9%84_%DA%AF%D8%B1%DB%8C_%DA%A9%D8%A7%D8%B3%D9%BE%D8%A7%D8%B1%D9%81\">\\xd8\\xaf\\xdb\\x8c\\xd8\\xa8 \\xd8\\xa8\\xd9\\x84\\xd9\\x88 \\xd8\\xaf\\xd8\\xb1 \\xd9\\x85\\xd9\\x82\\xd8\\xa7\\xd8\\xa8\\xd9\\x84 \\xda\\xaf\\xd8\\xb1\\xdb\\x8c \\xda\\xa9\\xd8\\xa7\\xd8\\xb3\\xd9\\xbe\\xd8\\xa7\\xd8\\xb1\\xd9\\x81</a></li>\\n</ul></li>\\n<li class=\\'mw-gu-onwiki-fi_wikipedia_org\\'>Usage on fi.wikipedia.org\\n<ul>\\t<li><a class=\"external\" href=\"https://fi.wikipedia.org/wiki/Deep_Blue\">Deep Blue</a></li>\\n</ul></li>\\n<li class=\\'mw-gu-onwiki-fr_wikipedia_org\\'>Usage on fr.wikipedia.org\\n<ul>\\t<li><a class=\"external\" href=\"https://fr.wikipedia.org/wiki/Intelligence_artificielle\">Intelligence artificielle</a></li>\\n\\t<li><a class=\"external\" href=\"https://fr.wikipedia.org/wiki/%C3%89checs\">\\xc3\\x89checs</a></li>\\n\\t<li><a class=\"external\" href=\"https://fr.wikipedia.org/wiki/Garry_Kasparov\">Garry Kasparov</a></li>\\n\\t<li><a class=\"external\" href=\"https://fr.wikipedia.org/wiki/Discussion:Intelligence_artificielle\">Discussion:Intelligence artificielle</a></li>\\n\\t<li><a class=\"external\" href=\"https://fr.wikipedia.org/wiki/Deep_Blue\">Deep Blue</a></li>\\n\\t<li><a class=\"external\" href=\"https://fr.wikipedia.org/wiki/Programme_d%27%C3%A9checs\">Programme d\\'\\xc3\\xa9checs</a></li>\\n\\t<li><a class=\"external\" href=\"https://fr.wikipedia.org/wiki/Discussion:Deep_Thought_(ordinateur_d%27%C3%A9checs)\">Discussion:Deep Thought (ordinateur d\\'\\xc3\\xa9checs)</a></li>\\n\\t<li><a class=\"external\" href=\"https://fr.wikipedia.org/wiki/Lexique_du_jeu_d%27%C3%A9checs\">Lexique du jeu d\\'\\xc3\\xa9checs</a></li>\\n\\t<li><a class=\"external\" href=\"https://fr.wikipedia.org/wiki/Discussion:Intelligence_artificielle/version_collective\">Discussion:Intelligence artificielle/version collective</a></li>\\n\\t<li><a class=\"external\" href=\"https://fr.wikipedia.org/wiki/Utilisateur:DeepBlue\">Utilisateur:DeepBlue</a></li>\\n\\t<li><a class=\"external\" href=\"https://fr.wikipedia.org/wiki/Deep_Blue_-_Kasparov_(1997,_partie_6)\">Deep Blue - Kasparov (1997, partie 6)</a></li>\\n\\t<li><a class=\"external\" href=\"https://fr.wikipedia.org/wiki/Histoire_de_l%27intelligence_artificielle\">Histoire de l\\'intelligence artificielle</a></li>\\n\\t<li><a class=\"external\" href=\"https://fr.wikipedia.org/wiki/Wikip%C3%A9dia:Le_saviez-vous_%3F/Archives/2014\">Wikip\\xc3\\xa9dia:Le saviez-vous ?/Archives/2014</a></li>\\n\\t<li><a class=\"external\" href=\"https://fr.wikipedia.org/wiki/Utilisateur:GhosterBot/BacASable/testStat_bis/Visibilit%C3%A9_des_anecdotes_(2014)\">Utilisateur:GhosterBot/BacASable/testStat bis/Visibilit\\xc3\\xa9 des anecdotes (2014)</a></li>\\n\\t<li><a class=\"external\" href=\"https://fr.wikipedia.org/wiki/Utilisateur:GhosterBot/BacASable/testStat_b/Visibilit%C3%A9_des_anecdotes_(2014)\">Utilisateur:GhosterBot/BacASable/testStat b/Visibilit\\xc3\\xa9 des anecdotes (2014)</a></li>\\n\\t<li><a class=\"external\" href=\"https://fr.wikipedia.org/wiki/Utilisateur:GhosterBot/BacASable/testStat/Visibilit%C3%A9_des_anecdotes_(2014)\">Utilisateur:GhosterBot/BacASable/testStat/Visibilit\\xc3\\xa9 des anecdotes (2014)</a></li>\\n\\t<li><a class=\"external\" href=\"https://fr.wikipedia.org/wiki/Utilisateur:GhosterBot/BacASable/testStat/Visibilit%C3%A9_des_anecdotes_(2014)/2014_09\">Utilisateur:GhosterBot/BacASable/testStat/Visibilit\\xc3\\xa9 des anecdotes (2014)/2014 09</a></li>\\n\\t<li><a class=\"external\" href=\"https://fr.wikipedia.org/wiki/Utilisateur:GhosterBot/BacASable/testStat/Visibilit%C3%A9_des_anecdotes_(2014)/2014_10\">Utilisateur:GhosterBot/BacASable/testStat/Visibilit\\xc3\\xa9 des anecdotes (2014)/2014 10</a></li>\\n\\t<li><a class=\"external\" href=\"https://fr.wikipedia.org/wiki/Utilisateur:GhosterBot/BacASable/testStat/Visibilit%C3%A9_des_anecdotes_(2014)/2014_11\">Utilisateur:GhosterBot/BacASable/testStat/Visibilit\\xc3\\xa9 des anecdotes (2014)/2014 11</a></li>\\n\\t<li><a class=\"external\" href=\"https://fr.wikipedia.org/wiki/Wikip%C3%A9dia:Statistiques_des_anecdotes_de_la_page_d%27accueil/Visibilit%C3%A9_des_anecdotes_(2014)\">Wikip\\xc3\\xa9dia:Statistiques des anecdotes de la page d\\'accueil/Visibilit\\xc3\\xa9 des anecdotes (2014)</a></li>\\n\\t<li><a class=\"external\" href=\"https://fr.wikipedia.org/wiki/Wikip%C3%A9dia:Statistiques_des_anecdotes_de_la_page_d%27accueil/Visibilit%C3%A9_des_anecdotes_(2014)/2014_06\">Wikip\\xc3\\xa9dia:Statistiques des anecdotes de la page d\\'accueil/Visibilit\\xc3\\xa9 des anecdotes (2014)/2014 06</a></li>\\n\\t<li><a class=\"external\" href=\"https://fr.wikipedia.org/wiki/Wikip%C3%A9dia:Le_saviez-vous_%3F/Anecdotes_propos%C3%A9es/Archivage_des_discussions/Archives/2016-1\">Wikip\\xc3\\xa9dia:Le saviez-vous ?/Anecdotes propos\\xc3\\xa9es/Archivage des discussions/Archives/2016-1</a></li>\\n</ul></li>\\n</ul>\\n<p>View <a href=\"/wiki/Special:GlobalUsage/Deep_Blue.jpg\" title=\"Special:GlobalUsage/Deep Blue.jpg\">more global usage</a> of this file.\\n</p></div><h2 id=\"metadata\">Metadata</h2>\\n<div class=\"mw-imagepage-section-metadata\"><p>This file contains additional information, probably added from the digital camera or scanner used to create or digitize it.\\n</p><p>\\nIf the file has been modified from its original state, some details may not fully reflect the modified file.</p><table id=\"mw_metadata\" class=\"mw_metadata collapsed\">\\n<tbody><tr class=\"exif-make\"><th>Camera manufacturer</th><td><a href=\"/wiki/Canon_(company)\" class=\"mw-redirect\" title=\"Canon (company)\">Canon</a></td></tr><tr class=\"exif-model\"><th>Camera model</th><td><a href=\"/wiki/Canon_EOS_300D_DIGITAL\" class=\"mw-redirect\" title=\"Canon EOS 300D DIGITAL\">Canon EOS 300D DIGITAL</a></td></tr><tr class=\"exif-artist\"><th>Author</th><td>Jim Gardner - thejimmyjob.com</td></tr><tr class=\"exif-exposuretime\"><th><a href=\"/wiki/Shutter_speed\" title=\"Shutter speed\">Exposure time</a></th><td>1/20 sec (0.05)</td></tr><tr class=\"exif-fnumber\"><th><a href=\"/wiki/F-number\" title=\"F-number\">F-number</a></th><td>f/3.5</td></tr><tr class=\"exif-isospeedratings\"><th><a href=\"/wiki/Film_speed\" title=\"Film speed\">ISO speed</a> rating</th><td>800</td></tr><tr class=\"exif-datetimeoriginal\"><th>Date and time of data generation</th><td>21:41, 14 June 2007</td></tr><tr class=\"exif-focallength\"><th>Lens <a href=\"/wiki/Focal_length\" title=\"Focal length\">focal length</a></th><td>22 mm</td></tr><tr class=\"exif-orientation mw-metadata-collapsible\"><th>Orientation</th><td>Normal</td></tr><tr class=\"exif-xresolution mw-metadata-collapsible\"><th>Horizontal resolution</th><td>72 dpi</td></tr><tr class=\"exif-yresolution mw-metadata-collapsible\"><th>Vertical resolution</th><td>72 dpi</td></tr><tr class=\"exif-software mw-metadata-collapsible\"><th>Software used</th><td><a href=\"/wiki/Adobe_Photoshop_CS3_Windows\" class=\"mw-redirect\" title=\"Adobe Photoshop CS3 Windows\">Adobe Photoshop CS3 Windows</a></td></tr><tr class=\"exif-datetime mw-metadata-collapsible\"><th>File change date and time</th><td>12:43, 22 June 2007</td></tr><tr class=\"exif-exposureprogram mw-metadata-collapsible\"><th>Exposure Program</th><td>Normal program</td></tr><tr class=\"exif-exifversion mw-metadata-collapsible\"><th><a href=\"/wiki/Exchangeable_image_file_format\" class=\"mw-redirect\" title=\"Exchangeable image file format\">Exif</a> version</th><td>2.21</td></tr><tr class=\"exif-datetimedigitized mw-metadata-collapsible\"><th>Date and time of digitizing</th><td>21:41, 14 June 2007</td></tr><tr class=\"exif-shutterspeedvalue mw-metadata-collapsible\"><th><a href=\"/wiki/Shutter_speed\" title=\"Shutter speed\">Shutter speed</a></th><td>4.321928</td></tr><tr class=\"exif-aperturevalue mw-metadata-collapsible\"><th>APEX aperture</th><td>3.61471</td></tr><tr class=\"exif-exposurebiasvalue mw-metadata-collapsible\"><th><a href=\"/wiki/Exposure_compensation\" title=\"Exposure compensation\">Exposure bias</a></th><td>0</td></tr><tr class=\"exif-maxaperturevalue mw-metadata-collapsible\"><th>Maximum land aperture</th><td>3.625 APEX (f/3.51)</td></tr><tr class=\"exif-meteringmode mw-metadata-collapsible\"><th><a href=\"/wiki/Metering_mode\" title=\"Metering mode\">Metering mode</a></th><td>Pattern</td></tr><tr class=\"exif-flash mw-metadata-collapsible\"><th><a href=\"/wiki/Flash_(photography)\" title=\"Flash (photography)\">Flash</a></th><td>Flash did not fire</td></tr><tr class=\"exif-colorspace mw-metadata-collapsible\"><th><a href=\"/wiki/Color_space\" title=\"Color space\">Color space</a></th><td>Uncalibrated</td></tr></tbody></table>\\n</div><noscript><img src=\"//en.wikipedia.org/wiki/Special:CentralAutoLogin/start?type=1x1\" alt=\"\" title=\"\" width=\"1\" height=\"1\" style=\"border: none; position: absolute;\" /></noscript>\\n<div class=\"printfooter\">Retrieved from \"<a dir=\"ltr\" href=\"https://en.wikipedia.org/wiki/File:Deep_Blue.jpg\">https://en.wikipedia.org/wiki/File:Deep_Blue.jpg</a>\"</div></div>\\n\\t\\t<div id=\"catlinks\" class=\"catlinks catlinks-allhidden\" data-mw=\"interface\"></div>\\n\\t</div>\\n</div>\\n<div id=\\'mw-data-after-content\\'>\\n\\t<div class=\"read-more-container\"></div>\\n</div>\\n\\n<div id=\"mw-navigation\">\\n\\t<h2>Navigation menu</h2>\\n\\t<div id=\"mw-head\">\\n\\t\\t<!-- Please do not use role attribute as CSS selector, it is deprecated. -->\\n<nav id=\"p-personal\" class=\"vector-menu\" aria-labelledby=\"p-personal-label\" role=\"navigation\" \\n\\t >\\n\\t<h3 id=\"p-personal-label\">\\n\\t\\t<span>Personal tools</span>\\n\\t</h3>\\n\\t<!-- Please do not use the .body class, it is deprecated. -->\\n\\t<div class=\"body vector-menu-content\">\\n\\t\\t<!-- Please do not use the .menu class, it is deprecated. -->\\n\\t\\t<ul class=\"vector-menu-content-list\"><li id=\"pt-anonuserpage\">Not logged in</li><li id=\"pt-anontalk\"><a href=\"/wiki/Special:MyTalk\" title=\"Discussion about edits from this IP address [n]\" accesskey=\"n\">Talk</a></li><li id=\"pt-anoncontribs\"><a href=\"/wiki/Special:MyContributions\" title=\"A list of edits made from this IP address [y]\" accesskey=\"y\">Contributions</a></li><li id=\"pt-createaccount\"><a href=\"/w/index.php?title=Special:CreateAccount&amp;returnto=File%3ADeep+Blue.jpg\" title=\"You are encouraged to create an account and log in; however, it is not mandatory\">Create account</a></li><li id=\"pt-login\"><a href=\"/w/index.php?title=Special:UserLogin&amp;returnto=File%3ADeep+Blue.jpg\" title=\"You&#039;re encouraged to log in; however, it&#039;s not mandatory. [o]\" accesskey=\"o\">Log in</a></li></ul>\\n\\t\\t\\n\\t</div>\\n</nav>\\n\\n\\t\\t<div id=\"left-navigation\">\\n\\t\\t\\t<!-- Please do not use role attribute as CSS selector, it is deprecated. -->\\n<nav id=\"p-namespaces\" class=\"vector-menu vector-menu-tabs vectorTabs\" aria-labelledby=\"p-namespaces-label\" role=\"navigation\" \\n\\t >\\n\\t<h3 id=\"p-namespaces-label\">\\n\\t\\t<span>Namespaces</span>\\n\\t</h3>\\n\\t<!-- Please do not use the .body class, it is deprecated. -->\\n\\t<div class=\"body vector-menu-content\">\\n\\t\\t<!-- Please do not use the .menu class, it is deprecated. -->\\n\\t\\t<ul class=\"vector-menu-content-list\"><li id=\"ca-nstab-image\" class=\"selected\"><a href=\"/wiki/File:Deep_Blue.jpg\" title=\"View the file page [c]\" accesskey=\"c\">File</a></li><li id=\"ca-talk\"><a href=\"/wiki/File_talk:Deep_Blue.jpg\" rel=\"discussion\" title=\"Discuss improvements to the content page [t]\" accesskey=\"t\">Talk</a></li></ul>\\n\\t\\t\\n\\t</div>\\n</nav>\\n\\n\\t\\t\\t<!-- Please do not use role attribute as CSS selector, it is deprecated. -->\\n<nav id=\"p-variants\" class=\"vector-menu-empty emptyPortlet vector-menu vector-menu-dropdown vectorMenu\" aria-labelledby=\"p-variants-label\" role=\"navigation\" \\n\\t >\\n\\t<input type=\"checkbox\" class=\"vector-menu-checkbox vectorMenuCheckbox\" aria-labelledby=\"p-variants-label\" />\\n\\t<h3 id=\"p-variants-label\">\\n\\t\\t<span>Variants</span>\\n\\t</h3>\\n\\t<!-- Please do not use the .body class, it is deprecated. -->\\n\\t<div class=\"body vector-menu-content\">\\n\\t\\t<!-- Please do not use the .menu class, it is deprecated. -->\\n\\t\\t<ul class=\"menu vector-menu-content-list\"></ul>\\n\\t\\t\\n\\t</div>\\n</nav>\\n\\n\\t\\t</div>\\n\\t\\t<div id=\"right-navigation\">\\n\\t\\t\\t<!-- Please do not use role attribute as CSS selector, it is deprecated. -->\\n<nav id=\"p-views\" class=\"vector-menu vector-menu-tabs vectorTabs\" aria-labelledby=\"p-views-label\" role=\"navigation\" \\n\\t >\\n\\t<h3 id=\"p-views-label\">\\n\\t\\t<span>Views</span>\\n\\t</h3>\\n\\t<!-- Please do not use the .body class, it is deprecated. -->\\n\\t<div class=\"body vector-menu-content\">\\n\\t\\t<!-- Please do not use the .menu class, it is deprecated. -->\\n\\t\\t<ul class=\"vector-menu-content-list\"><li id=\"ca-view\" class=\"selected\"><a href=\"/wiki/File:Deep_Blue.jpg\">Read</a></li><li id=\"ca-view-foreign\"><a href=\"https://commons.wikimedia.org/wiki/File:Deep_Blue.jpg\">View on Commons</a></li></ul>\\n\\t\\t\\n\\t</div>\\n</nav>\\n\\n\\t\\t\\t<!-- Please do not use role attribute as CSS selector, it is deprecated. -->\\n<nav id=\"p-cactions\" class=\"vector-menu-empty emptyPortlet vector-menu vector-menu-dropdown vectorMenu\" aria-labelledby=\"p-cactions-label\" role=\"navigation\" \\n\\t >\\n\\t<input type=\"checkbox\" class=\"vector-menu-checkbox vectorMenuCheckbox\" aria-labelledby=\"p-cactions-label\" />\\n\\t<h3 id=\"p-cactions-label\">\\n\\t\\t<span>More</span>\\n\\t</h3>\\n\\t<!-- Please do not use the .body class, it is deprecated. -->\\n\\t<div class=\"body vector-menu-content\">\\n\\t\\t<!-- Please do not use the .menu class, it is deprecated. -->\\n\\t\\t<ul class=\"menu vector-menu-content-list\"></ul>\\n\\t\\t\\n\\t</div>\\n</nav>\\n\\n\\t\\t\\t<div id=\"p-search\" role=\"search\">\\n\\t<h3 >\\n\\t\\t<label for=\"searchInput\">Search</label>\\n\\t</h3>\\n\\t<form action=\"/w/index.php\" id=\"searchform\">\\n\\t\\t<div id=\"simpleSearch\">\\n\\t\\t\\t<input type=\"search\" name=\"search\" placeholder=\"Search Wikipedia\" title=\"Search Wikipedia [f]\" accesskey=\"f\" id=\"searchInput\"/>\\n\\t\\t\\t<input type=\"hidden\" name=\"title\" value=\"Special:Search\">\\n\\t\\t\\t<input type=\"submit\" name=\"fulltext\" value=\"Search\" title=\"Search Wikipedia for this text\" id=\"mw-searchButton\" class=\"searchButton mw-fallbackSearchButton\"/>\\n\\t\\t\\t<input type=\"submit\" name=\"go\" value=\"Go\" title=\"Go to a page with this exact name if it exists\" id=\"searchButton\" class=\"searchButton\"/>\\n\\t\\t</div>\\n\\t</form>\\n</div>\\n\\n\\t\\t</div>\\n\\t</div>\\n\\t\\n<div id=\"mw-panel\">\\n\\t<div id=\"p-logo\" role=\"banner\">\\n\\t\\t<a  title=\"Visit the main page\" class=\"mw-wiki-logo\" href=\"/wiki/Main_Page\"></a>\\n\\t</div>\\n\\t<!-- Please do not use role attribute as CSS selector, it is deprecated. -->\\n<nav id=\"p-navigation\" class=\"vector-menu vector-menu-portal portal portal-first\" aria-labelledby=\"p-navigation-label\" role=\"navigation\" \\n\\t >\\n\\t<h3 id=\"p-navigation-label\">\\n\\t\\t<span>Navigation</span>\\n\\t</h3>\\n\\t<!-- Please do not use the .body class, it is deprecated. -->\\n\\t<div class=\"body vector-menu-content\">\\n\\t\\t<!-- Please do not use the .menu class, it is deprecated. -->\\n\\t\\t<ul class=\"vector-menu-content-list\"><li id=\"n-mainpage-description\"><a href=\"/wiki/Main_Page\" title=\"Visit the main page [z]\" accesskey=\"z\">Main page</a></li><li id=\"n-contents\"><a href=\"/wiki/Wikipedia:Contents\" title=\"Guides to browsing Wikipedia\">Contents</a></li><li id=\"n-currentevents\"><a href=\"/wiki/Portal:Current_events\" title=\"Find background information on current events\">Current events</a></li><li id=\"n-randompage\"><a href=\"/wiki/Special:Random\" title=\"Visit a randomly selected article [x]\" accesskey=\"x\">Random article</a></li><li id=\"n-aboutsite\"><a href=\"/wiki/Wikipedia:About\" title=\"Learn about Wikipedia and how it works\">About Wikipedia</a></li><li id=\"n-contactpage\"><a href=\"//en.wikipedia.org/wiki/Wikipedia:Contact_us\" title=\"How to contact Wikipedia\">Contact us</a></li><li id=\"n-sitesupport\"><a href=\"https://donate.wikimedia.org/wiki/Special:FundraiserRedirector?utm_source=donate&amp;utm_medium=sidebar&amp;utm_campaign=C13_en.wikipedia.org&amp;uselang=en\" title=\"Support us by donating to the Wikimedia Foundation\">Donate</a></li><li id=\"n-shoplink\"><a href=\"//shop.wikimedia.org\" title=\"Visit the Wikipedia store\">Wikipedia store</a></li></ul>\\n\\t\\t\\n\\t</div>\\n</nav>\\n\\n\\t<!-- Please do not use role attribute as CSS selector, it is deprecated. -->\\n<nav id=\"p-interaction\" class=\"vector-menu vector-menu-portal portal\" aria-labelledby=\"p-interaction-label\" role=\"navigation\" \\n\\t >\\n\\t<h3 id=\"p-interaction-label\">\\n\\t\\t<span>Contribute</span>\\n\\t</h3>\\n\\t<!-- Please do not use the .body class, it is deprecated. -->\\n\\t<div class=\"body vector-menu-content\">\\n\\t\\t<!-- Please do not use the .menu class, it is deprecated. -->\\n\\t\\t<ul class=\"vector-menu-content-list\"><li id=\"n-help\"><a href=\"/wiki/Help:Contents\" title=\"Guidance on how to use and edit Wikipedia\">Help</a></li><li id=\"n-portal\"><a href=\"/wiki/Wikipedia:Community_portal\" title=\"About the project, what you can do, where to find things\">Community portal</a></li><li id=\"n-recentchanges\"><a href=\"/wiki/Special:RecentChanges\" title=\"A list of recent changes to Wikipedia [r]\" accesskey=\"r\">Recent changes</a></li><li id=\"n-upload\"><a href=\"/wiki/Wikipedia:File_Upload_Wizard\" title=\"Add images or other media for use on Wikipedia\">Upload file</a></li></ul>\\n\\t\\t\\n\\t</div>\\n</nav>\\n<!-- Please do not use role attribute as CSS selector, it is deprecated. -->\\n<nav id=\"p-tb\" class=\"vector-menu vector-menu-portal portal\" aria-labelledby=\"p-tb-label\" role=\"navigation\" \\n\\t >\\n\\t<h3 id=\"p-tb-label\">\\n\\t\\t<span>Tools</span>\\n\\t</h3>\\n\\t<!-- Please do not use the .body class, it is deprecated. -->\\n\\t<div class=\"body vector-menu-content\">\\n\\t\\t<!-- Please do not use the .menu class, it is deprecated. -->\\n\\t\\t<ul class=\"vector-menu-content-list\"><li id=\"t-whatlinkshere\"><a href=\"/wiki/Special:WhatLinksHere/File:Deep_Blue.jpg\" title=\"List of all English Wikipedia pages containing links to this page [j]\" accesskey=\"j\">What links here</a></li><li id=\"t-upload\"><a href=\"/wiki/Wikipedia:File_Upload_Wizard\" title=\"Upload files [u]\" accesskey=\"u\">Upload file</a></li><li id=\"t-specialpages\"><a href=\"/wiki/Special:SpecialPages\" title=\"A list of all special pages [q]\" accesskey=\"q\">Special pages</a></li><li id=\"t-print\"><a href=\"javascript:print();\" rel=\"alternate\" title=\"Printable version of this page [p]\" accesskey=\"p\">Printable version</a></li><li id=\"t-info\"><a href=\"/w/index.php?title=File:Deep_Blue.jpg&amp;action=info\" title=\"More information about this page\">Page information</a></li></ul>\\n\\t\\t\\n\\t</div>\\n</nav>\\n\\n\\t<!-- Please do not use role attribute as CSS selector, it is deprecated. -->\\n<nav id=\"p-lang\" class=\"vector-menu vector-menu-portal portal\" aria-labelledby=\"p-lang-label\" role=\"navigation\" \\n\\t >\\n\\t<h3 id=\"p-lang-label\">\\n\\t\\t<span>Languages</span>\\n\\t</h3>\\n\\t<!-- Please do not use the .body class, it is deprecated. -->\\n\\t<div class=\"body vector-menu-content\">\\n\\t\\t<!-- Please do not use the .menu class, it is deprecated. -->\\n\\t\\t<ul class=\"vector-menu-content-list\"></ul>\\n\\t\\t<div class=\"after-portlet after-portlet-lang\"><span class=\"uls-after-portlet-link\"></span></div>\\n\\t</div>\\n</nav>\\n\\n</div>\\n\\n</div>\\n<footer id=\"footer\" class=\"mw-footer\" role=\"contentinfo\" >\\n\\t<ul id=\"footer-info\" >\\n\\t</ul>\\n\\t<ul id=\"footer-places\" >\\n\\t\\t<li id=\"footer-places-privacy\"><a href=\"https://foundation.wikimedia.org/wiki/Privacy_policy\" class=\"extiw\" title=\"wmf:Privacy policy\">Privacy policy</a></li>\\n\\t\\t<li id=\"footer-places-about\"><a href=\"/wiki/Wikipedia:About\" title=\"Wikipedia:About\">About Wikipedia</a></li>\\n\\t\\t<li id=\"footer-places-disclaimer\"><a href=\"/wiki/Wikipedia:General_disclaimer\" title=\"Wikipedia:General disclaimer\">Disclaimers</a></li>\\n\\t\\t<li id=\"footer-places-contact\"><a href=\"//en.wikipedia.org/wiki/Wikipedia:Contact_us\">Contact Wikipedia</a></li>\\n\\t\\t<li id=\"footer-places-mobileview\"><a href=\"//en.m.wikipedia.org/w/index.php?title=File:Deep_Blue.jpg&amp;mobileaction=toggle_view_mobile\" class=\"noprint stopMobileRedirectToggle\">Mobile view</a></li>\\n\\t\\t<li id=\"footer-places-developers\"><a href=\"https://www.mediawiki.org/wiki/Special:MyLanguage/How_to_contribute\">Developers</a></li>\\n\\t\\t<li id=\"footer-places-statslink\"><a href=\"https://stats.wikimedia.org/#/en.wikipedia.org\">Statistics</a></li>\\n\\t\\t<li id=\"footer-places-cookiestatement\"><a href=\"https://foundation.wikimedia.org/wiki/Cookie_statement\">Cookie statement</a></li>\\n\\t</ul>\\n\\t<ul id=\"footer-icons\" class=\"noprint\">\\n\\t\\t<li id=\"footer-copyrightico\"><a href=\"https://wikimediafoundation.org/\"><img src=\"/static/images/footer/wikimedia-button.png\" srcset=\"/static/images/footer/wikimedia-button-1.5x.png 1.5x, /static/images/footer/wikimedia-button-2x.png 2x\" width=\"88\" height=\"31\" alt=\"Wikimedia Foundation\" loading=\"lazy\" /></a></li>\\n\\t\\t<li id=\"footer-poweredbyico\"><a href=\"https://www.mediawiki.org/\"><img src=\"/static/images/footer/poweredby_mediawiki_88x31.png\" alt=\"Powered by MediaWiki\" srcset=\"/static/images/footer/poweredby_mediawiki_132x47.png 1.5x, /static/images/footer/poweredby_mediawiki_176x62.png 2x\" width=\"88\" height=\"31\" loading=\"lazy\"/></a></li>\\n\\t</ul>\\n\\t<div style=\"clear: both;\"></div>\\n</footer>\\n\\n\\n<script>(RLQ=window.RLQ||[]).push(function(){mw.config.set({\"wgBackendResponseTime\":209,\"wgHostname\":\"mw2275\"});});</script>\\n</body></html>'"
      ]
     },
     "execution_count": 16,
     "metadata": {},
     "output_type": "execute_result"
    }
   ],
   "source": [
    "image_link.content"
   ]
  },
  {
   "cell_type": "code",
   "execution_count": 17,
   "metadata": {},
   "outputs": [
    {
     "data": {
      "text/plain": [
       "50517"
      ]
     },
     "execution_count": 17,
     "metadata": {},
     "output_type": "execute_result"
    }
   ],
   "source": [
    "#writing to a file\n",
    "f = open('my_new_file_name.jpg','wb')\n",
    "f.write(image_link.content)"
   ]
  },
  {
   "cell_type": "code",
   "execution_count": 18,
   "metadata": {},
   "outputs": [],
   "source": [
    "f.close()"
   ]
  },
  {
   "cell_type": "markdown",
   "metadata": {},
   "source": [
    "<img src =\"my_new_file_name.jpg'>"
   ]
  },
  {
   "cell_type": "markdown",
   "metadata": {},
   "source": []
  },
  {
   "cell_type": "code",
   "execution_count": null,
   "metadata": {},
   "outputs": [],
   "source": []
  }
 ],
 "metadata": {
  "kernelspec": {
   "display_name": "Python 3",
   "language": "python",
   "name": "python3"
  },
  "language_info": {
   "codemirror_mode": {
    "name": "ipython",
    "version": 3
   },
   "file_extension": ".py",
   "mimetype": "text/x-python",
   "name": "python",
   "nbconvert_exporter": "python",
   "pygments_lexer": "ipython3",
   "version": "3.8.3"
  }
 },
 "nbformat": 4,
 "nbformat_minor": 4
}
